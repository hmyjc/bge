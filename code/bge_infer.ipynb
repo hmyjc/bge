{
 "cells": [
  {
   "cell_type": "code",
   "execution_count": 1,
   "id": "4eff67a8",
   "metadata": {
    "execution": {
     "iopub.execute_input": "2024-09-25T12:22:28.066284Z",
     "iopub.status.busy": "2024-09-25T12:22:28.065490Z",
     "iopub.status.idle": "2024-09-25T12:22:34.179697Z",
     "shell.execute_reply": "2024-09-25T12:22:34.178916Z"
    },
    "papermill": {
     "duration": 6.124023,
     "end_time": "2024-09-25T12:22:34.182075",
     "exception": false,
     "start_time": "2024-09-25T12:22:28.058052",
     "status": "completed"
    },
    "tags": []
   },
   "outputs": [],
   "source": [
    "import re\n",
    "import numpy as np\n",
    "import pandas as pd\n",
    "\n",
    "import torch\n",
    "from transformers import AutoTokenizer, AutoModel\n",
    "\n",
    "from scipy.spatial.distance import cdist\n",
    "from sklearn.metrics.pairwise import cosine_similarity"
   ]
  },
  {
   "cell_type": "code",
   "execution_count": 2,
   "id": "df41daa6",
   "metadata": {
    "execution": {
     "iopub.execute_input": "2024-09-25T12:22:34.194346Z",
     "iopub.status.busy": "2024-09-25T12:22:34.193945Z",
     "iopub.status.idle": "2024-09-25T12:22:34.198124Z",
     "shell.execute_reply": "2024-09-25T12:22:34.197289Z"
    },
    "papermill": {
     "duration": 0.012232,
     "end_time": "2024-09-25T12:22:34.200006",
     "exception": false,
     "start_time": "2024-09-25T12:22:34.187774",
     "status": "completed"
    },
    "tags": []
   },
   "outputs": [],
   "source": [
    "# embed_model_pth = cfg.MODEL_OUTPUT_PATH\n",
    "embed_model_pth =\"../model_output/trained_model\""
   ]
  },
  {
   "cell_type": "code",
   "execution_count": 3,
   "id": "1cd73e1e",
   "metadata": {
    "execution": {
     "iopub.execute_input": "2024-09-25T12:22:34.212102Z",
     "iopub.status.busy": "2024-09-25T12:22:34.211321Z",
     "iopub.status.idle": "2024-09-25T12:22:34.268401Z",
     "shell.execute_reply": "2024-09-25T12:22:34.267677Z"
    },
    "papermill": {
     "duration": 0.065077,
     "end_time": "2024-09-25T12:22:34.270331",
     "exception": false,
     "start_time": "2024-09-25T12:22:34.205254",
     "status": "completed"
    },
    "tags": []
   },
   "outputs": [],
   "source": [
    "test = pd.read_csv(\"../competitions_data/test.csv\")\n",
    "train = pd.read_csv(\"../competitions_data/train.csv\")\n",
    "misconception_mapping = pd.read_csv(\"../competitions_data/misconception_mapping.csv\")"
   ]
  },
  {
   "cell_type": "code",
   "execution_count": 4,
   "id": "8071ed88",
   "metadata": {
    "execution": {
     "iopub.execute_input": "2024-09-25T12:22:34.281898Z",
     "iopub.status.busy": "2024-09-25T12:22:34.281586Z",
     "iopub.status.idle": "2024-09-25T12:22:34.295867Z",
     "shell.execute_reply": "2024-09-25T12:22:34.295013Z"
    },
    "papermill": {
     "duration": 0.022098,
     "end_time": "2024-09-25T12:22:34.297690",
     "exception": false,
     "start_time": "2024-09-25T12:22:34.275592",
     "status": "completed"
    },
    "tags": []
   },
   "outputs": [],
   "source": [
    "train = train.dropna(axis=1)"
   ]
  },
  {
   "cell_type": "code",
   "execution_count": 5,
   "id": "05cc436f",
   "metadata": {
    "execution": {
     "iopub.execute_input": "2024-09-25T12:22:34.309180Z",
     "iopub.status.busy": "2024-09-25T12:22:34.308900Z",
     "iopub.status.idle": "2024-09-25T12:22:46.214189Z",
     "shell.execute_reply": "2024-09-25T12:22:46.213294Z"
    },
    "papermill": {
     "duration": 11.913538,
     "end_time": "2024-09-25T12:22:46.216519",
     "exception": false,
     "start_time": "2024-09-25T12:22:34.302981",
     "status": "completed"
    },
    "tags": []
   },
   "outputs": [],
   "source": [
    "tokenizer = AutoTokenizer.from_pretrained(embed_model_pth)\n",
    "model     = AutoModel.from_pretrained(embed_model_pth).to(\"cuda:0\")"
   ]
  },
  {
   "cell_type": "code",
   "execution_count": 6,
   "id": "9f6f9a92",
   "metadata": {
    "execution": {
     "iopub.execute_input": "2024-09-25T12:22:46.228931Z",
     "iopub.status.busy": "2024-09-25T12:22:46.228458Z",
     "iopub.status.idle": "2024-09-25T12:22:46.234964Z",
     "shell.execute_reply": "2024-09-25T12:22:46.234110Z"
    },
    "papermill": {
     "duration": 0.014851,
     "end_time": "2024-09-25T12:22:46.236914",
     "exception": false,
     "start_time": "2024-09-25T12:22:46.222063",
     "status": "completed"
    },
    "tags": []
   },
   "outputs": [],
   "source": [
    "# https://www.kaggle.com/code/pshikk/similarity-preprocessing\n",
    "\n",
    "def preprocess_text(x):\n",
    "    x = x.lower()                 # Convert words to lowercase\n",
    "    x = re.sub(\"@\\w+\", '',x)      # Delete strings starting with @\n",
    "    x = re.sub(\"'\\d+\", '',x)      # Delete Numbers\n",
    "    x = re.sub(\"\\d+\", '',x)\n",
    "    x = re.sub(\"http\\w+\", '',x)   # Delete URL\n",
    "    x = re.sub(r\"\\s+\", \" \", x)    # Replace consecutive empty spaces with a single space character\n",
    "    x = re.sub(r\"\\.+\", \".\", x)    # Replace consecutive commas and periods with one comma and period character\n",
    "    x = re.sub(r\"\\,+\", \",\", x)\n",
    "    x = x.strip()                 # Remove empty characters at the beginning and end\n",
    "    return x"
   ]
  },
  {
   "cell_type": "code",
   "execution_count": 7,
   "id": "e4912245",
   "metadata": {
    "execution": {
     "iopub.execute_input": "2024-09-25T12:22:46.249242Z",
     "iopub.status.busy": "2024-09-25T12:22:46.248975Z",
     "iopub.status.idle": "2024-09-25T12:22:46.256038Z",
     "shell.execute_reply": "2024-09-25T12:22:46.255147Z"
    },
    "papermill": {
     "duration": 0.014936,
     "end_time": "2024-09-25T12:22:46.257917",
     "exception": false,
     "start_time": "2024-09-25T12:22:46.242981",
     "status": "completed"
    },
    "tags": []
   },
   "outputs": [],
   "source": [
    "def generate_embeddings(texts, model, tokenizer, device, batch_size=8):\n",
    "    \"\"\" Function to generate embeddings \"\"\"\n",
    "    \n",
    "    all_embeddings = []\n",
    "    texts = [preprocess_text(text) for text in texts] # This was absent in the original code\n",
    "    for i in range(0, len(texts), batch_size):\n",
    "        batch_texts = texts[i:i+batch_size]\n",
    "        inputs = tokenizer(batch_texts, padding=True, truncation=True, return_tensors=\"pt\", max_length=1024).to(device)\n",
    "        with torch.no_grad():\n",
    "            outputs = model(**inputs)\n",
    "        embeddings = outputs.last_hidden_state[:, 0, :]  # CLS token\n",
    "        embeddings = torch.nn.functional.normalize(embeddings, p=2, dim=1)\n",
    "        all_embeddings.append(embeddings.cpu().numpy())\n",
    "    return np.concatenate(all_embeddings, axis=0)"
   ]
  },
  {
   "cell_type": "code",
   "execution_count": 8,
   "id": "5c1521b8",
   "metadata": {
    "execution": {
     "iopub.execute_input": "2024-09-25T12:22:46.269487Z",
     "iopub.status.busy": "2024-09-25T12:22:46.268994Z",
     "iopub.status.idle": "2024-09-25T12:22:57.273137Z",
     "shell.execute_reply": "2024-09-25T12:22:57.272072Z"
    },
    "papermill": {
     "duration": 11.013008,
     "end_time": "2024-09-25T12:22:57.276069",
     "exception": false,
     "start_time": "2024-09-25T12:22:46.263061",
     "status": "completed"
    },
    "tags": []
   },
   "outputs": [],
   "source": [
    "# Generate embeddings for misconceptions\n",
    "MisconceptionName = list(misconception_mapping['MisconceptionName'].values)\n",
    "all_ctx_vector = generate_embeddings(MisconceptionName, model, tokenizer, \"cuda:0\")"
   ]
  },
  {
   "cell_type": "code",
   "execution_count": 9,
   "id": "4f0f0ff9",
   "metadata": {
    "execution": {
     "iopub.execute_input": "2024-09-25T12:22:57.288609Z",
     "iopub.status.busy": "2024-09-25T12:22:57.287822Z",
     "iopub.status.idle": "2024-09-25T12:22:57.293638Z",
     "shell.execute_reply": "2024-09-25T12:22:57.292794Z"
    },
    "papermill": {
     "duration": 0.01412,
     "end_time": "2024-09-25T12:22:57.295664",
     "exception": false,
     "start_time": "2024-09-25T12:22:57.281544",
     "status": "completed"
    },
    "tags": []
   },
   "outputs": [],
   "source": [
    "# Prepare test data\n",
    "def make_all_question_text(df: pd.DataFrame) -> pd.DataFrame:\n",
    "    df[\"all_question_text\"] = df[\"SubjectName\"] + \"\\n\\n\" + df[\"ConstructName\"] + \"\\n\\n\" + df[\"QuestionText\"]\n",
    "    df[\"all_question_text\"] = df[\"all_question_text\"].apply(preprocess_text)\n",
    "    return df"
   ]
  },
  {
   "cell_type": "code",
   "execution_count": 10,
   "id": "4cde77c7",
   "metadata": {
    "execution": {
     "iopub.execute_input": "2024-09-25T12:22:57.307843Z",
     "iopub.status.busy": "2024-09-25T12:22:57.307002Z",
     "iopub.status.idle": "2024-09-25T12:22:57.313562Z",
     "shell.execute_reply": "2024-09-25T12:22:57.312692Z"
    },
    "papermill": {
     "duration": 0.014679,
     "end_time": "2024-09-25T12:22:57.315511",
     "exception": false,
     "start_time": "2024-09-25T12:22:57.300832",
     "status": "completed"
    },
    "tags": []
   },
   "outputs": [],
   "source": [
    "def wide_to_long(df: pd.DataFrame) -> pd.DataFrame:\n",
    "    df = pd.melt(\n",
    "        df[\n",
    "            [\n",
    "                \"QuestionId\",\n",
    "                \"all_question_text\",\n",
    "                \"CorrectAnswer\",\n",
    "                \"AnswerAText\",\n",
    "                \"AnswerBText\",\n",
    "                \"AnswerCText\",\n",
    "                \"AnswerDText\"\n",
    "            ]\n",
    "        ],\n",
    "        id_vars    = [\"QuestionId\", \"all_question_text\", \"CorrectAnswer\"],\n",
    "        var_name   = 'Answer',\n",
    "        value_name = 'value'\n",
    "    )\n",
    "    return df"
   ]
  },
  {
   "cell_type": "code",
   "execution_count": 11,
   "id": "7632a89b",
   "metadata": {
    "execution": {
     "iopub.execute_input": "2024-09-25T12:22:57.327238Z",
     "iopub.status.busy": "2024-09-25T12:22:57.326885Z",
     "iopub.status.idle": "2024-09-25T12:22:57.334048Z",
     "shell.execute_reply": "2024-09-25T12:22:57.333207Z"
    },
    "papermill": {
     "duration": 0.015389,
     "end_time": "2024-09-25T12:22:57.336094",
     "exception": false,
     "start_time": "2024-09-25T12:22:57.320705",
     "status": "completed"
    },
    "tags": []
   },
   "outputs": [],
   "source": [
    "def make_all_text(df: pd.DataFrame) -> pd.DataFrame:\n",
    "    text_components = []\n",
    "    if \"all_question_text\" in df.columns:\n",
    "        text_components.append(df[\"all_question_text\"])\n",
    "    if \"value\" in df.columns:\n",
    "        text_components.append(df[\"value\"].apply(preprocess_text))\n",
    "    \n",
    "    df[\"all_text\"] = pd.concat(text_components, axis=1).apply(lambda x: '\\n\\n'.join(x.dropna().astype(str)), axis=1)\n",
    "    return df"
   ]
  },
  {
   "cell_type": "code",
   "execution_count": 12,
   "id": "6847e417",
   "metadata": {
    "execution": {
     "iopub.execute_input": "2024-09-25T12:22:57.347758Z",
     "iopub.status.busy": "2024-09-25T12:22:57.347407Z",
     "iopub.status.idle": "2024-09-25T12:22:57.353197Z",
     "shell.execute_reply": "2024-09-25T12:22:57.352363Z"
    },
    "papermill": {
     "duration": 0.013834,
     "end_time": "2024-09-25T12:22:57.355059",
     "exception": false,
     "start_time": "2024-09-25T12:22:57.341225",
     "status": "completed"
    },
    "tags": []
   },
   "outputs": [],
   "source": [
    "def simple_cosine(all_text_vector, all_ctx_vector):\n",
    "    temp =  cosine_similarity(all_text_vector, all_ctx_vector)\n",
    "    return temp\n",
    "\n",
    "def cdist_similarity(all_text_vector, all_ctx_vector, m ):\n",
    "    dist = cdist(all_text_vector, all_ctx_vector, metric = m )\n",
    "    return 1 / (1 + dist)  # Convert distance to similarity\n",
    "#     return np.argsort(-temp, axis=1)"
   ]
  },
  {
   "cell_type": "code",
   "execution_count": 13,
   "id": "44275847",
   "metadata": {
    "execution": {
     "iopub.execute_input": "2024-09-25T12:22:57.366551Z",
     "iopub.status.busy": "2024-09-25T12:22:57.366213Z",
     "iopub.status.idle": "2024-09-25T12:22:57.539111Z",
     "shell.execute_reply": "2024-09-25T12:22:57.538148Z"
    },
    "papermill": {
     "duration": 0.181482,
     "end_time": "2024-09-25T12:22:57.541721",
     "exception": false,
     "start_time": "2024-09-25T12:22:57.360239",
     "status": "completed"
    },
    "tags": []
   },
   "outputs": [],
   "source": [
    "test = make_all_question_text(test)\n",
    "test_long = wide_to_long(test)\n",
    "test_long = make_all_text(test_long)\n",
    "test_long = test_long.sort_values([\"QuestionId\", \"Answer\"]).reset_index(drop=True)\n",
    "\n",
    "# Generate embeddings for test data\n",
    "test_texts = list(test_long['all_text'].values)\n",
    "all_text_vector = generate_embeddings(test_texts, model, tokenizer, \"cuda:0\")\n",
    "\n",
    "e_sim = cdist_similarity(all_text_vector, all_ctx_vector, 'euclidean')\n",
    "\n",
    "si = e_sim \n",
    "\n",
    "sim = np.argsort(-si,axis=1)\n",
    "\n",
    "# Prepare submission\n",
    "test_long[\"Answer_alphabet\"] = test_long[\"Answer\"].str.extract(r'Answer([A-Z])Text$')\n",
    "test_long[\"QuestionId_Answer\"] = test_long[\"QuestionId\"].astype(\"str\") + \"_\" + test_long[\"Answer_alphabet\"]\n",
    "test_long[\"MisconceptionId\"] = sim[:, :25].tolist()\n",
    "test_long[\"MisconceptionId\"] = test_long[\"MisconceptionId\"].apply(lambda x: ' '.join(map(str, x)))\n",
    "\n",
    "# filter correct row\n",
    "test_long = test_long[test_long[\"CorrectAnswer\"] != test_long[\"Answer_alphabet\"]]"
   ]
  },
  {
   "cell_type": "code",
   "execution_count": 14,
   "id": "82a29d7d",
   "metadata": {
    "execution": {
     "iopub.execute_input": "2024-09-25T12:22:57.553827Z",
     "iopub.status.busy": "2024-09-25T12:22:57.553482Z",
     "iopub.status.idle": "2024-09-25T12:22:57.558947Z",
     "shell.execute_reply": "2024-09-25T12:22:57.557953Z"
    },
    "papermill": {
     "duration": 0.013844,
     "end_time": "2024-09-25T12:22:57.561047",
     "exception": false,
     "start_time": "2024-09-25T12:22:57.547203",
     "status": "completed"
    },
    "tags": []
   },
   "outputs": [],
   "source": [
    "submission = test_long[[\"QuestionId_Answer\", \"MisconceptionId\"]].reset_index(drop=True)"
   ]
  },
  {
   "cell_type": "code",
   "execution_count": 15,
   "id": "a000d536",
   "metadata": {
    "execution": {
     "iopub.execute_input": "2024-09-25T12:22:57.573244Z",
     "iopub.status.busy": "2024-09-25T12:22:57.572481Z",
     "iopub.status.idle": "2024-09-25T12:22:57.587066Z",
     "shell.execute_reply": "2024-09-25T12:22:57.586091Z"
    },
    "papermill": {
     "duration": 0.022953,
     "end_time": "2024-09-25T12:22:57.589158",
     "exception": false,
     "start_time": "2024-09-25T12:22:57.566205",
     "status": "completed"
    },
    "tags": []
   },
   "outputs": [
    {
     "data": {
      "text/html": [
       "<div>\n",
       "<style scoped>\n",
       "    .dataframe tbody tr th:only-of-type {\n",
       "        vertical-align: middle;\n",
       "    }\n",
       "\n",
       "    .dataframe tbody tr th {\n",
       "        vertical-align: top;\n",
       "    }\n",
       "\n",
       "    .dataframe thead th {\n",
       "        text-align: right;\n",
       "    }\n",
       "</style>\n",
       "<table border=\"1\" class=\"dataframe\">\n",
       "  <thead>\n",
       "    <tr style=\"text-align: right;\">\n",
       "      <th></th>\n",
       "      <th>QuestionId_Answer</th>\n",
       "      <th>MisconceptionId</th>\n",
       "    </tr>\n",
       "  </thead>\n",
       "  <tbody>\n",
       "    <tr>\n",
       "      <th>0</th>\n",
       "      <td>1869_B</td>\n",
       "      <td>2306 1507 706 2488 1005 1516 328 2532 1672 196...</td>\n",
       "    </tr>\n",
       "    <tr>\n",
       "      <th>1</th>\n",
       "      <td>1869_C</td>\n",
       "      <td>2306 1507 706 2488 1005 328 1516 1672 2532 208...</td>\n",
       "    </tr>\n",
       "    <tr>\n",
       "      <th>2</th>\n",
       "      <td>1869_D</td>\n",
       "      <td>2306 1507 2488 706 1005 2532 1516 638 1392 205...</td>\n",
       "    </tr>\n",
       "    <tr>\n",
       "      <th>3</th>\n",
       "      <td>1870_A</td>\n",
       "      <td>2142 2068 1535 167 547 1755 891 1593 1256 2398...</td>\n",
       "    </tr>\n",
       "    <tr>\n",
       "      <th>4</th>\n",
       "      <td>1870_B</td>\n",
       "      <td>2142 2068 1535 167 547 1755 891 1593 1256 2398...</td>\n",
       "    </tr>\n",
       "    <tr>\n",
       "      <th>5</th>\n",
       "      <td>1870_C</td>\n",
       "      <td>2068 2142 1755 167 891 1535 547 2398 885 1593 ...</td>\n",
       "    </tr>\n",
       "    <tr>\n",
       "      <th>6</th>\n",
       "      <td>1871_A</td>\n",
       "      <td>1287 1073 2439 397 365 1923 1349 1677 2551 231...</td>\n",
       "    </tr>\n",
       "    <tr>\n",
       "      <th>7</th>\n",
       "      <td>1871_C</td>\n",
       "      <td>1287 1073 2439 397 365 1923 1349 1677 2319 255...</td>\n",
       "    </tr>\n",
       "    <tr>\n",
       "      <th>8</th>\n",
       "      <td>1871_D</td>\n",
       "      <td>1287 1073 2439 397 365 1923 1349 1677 2551 231...</td>\n",
       "    </tr>\n",
       "  </tbody>\n",
       "</table>\n",
       "</div>"
      ],
      "text/plain": [
       "  QuestionId_Answer                                    MisconceptionId\n",
       "0            1869_B  2306 1507 706 2488 1005 1516 328 2532 1672 196...\n",
       "1            1869_C  2306 1507 706 2488 1005 328 1516 1672 2532 208...\n",
       "2            1869_D  2306 1507 2488 706 1005 2532 1516 638 1392 205...\n",
       "3            1870_A  2142 2068 1535 167 547 1755 891 1593 1256 2398...\n",
       "4            1870_B  2142 2068 1535 167 547 1755 891 1593 1256 2398...\n",
       "5            1870_C  2068 2142 1755 167 891 1535 547 2398 885 1593 ...\n",
       "6            1871_A  1287 1073 2439 397 365 1923 1349 1677 2551 231...\n",
       "7            1871_C  1287 1073 2439 397 365 1923 1349 1677 2319 255...\n",
       "8            1871_D  1287 1073 2439 397 365 1923 1349 1677 2551 231..."
      ]
     },
     "execution_count": 15,
     "metadata": {},
     "output_type": "execute_result"
    }
   ],
   "source": [
    "submission.head(10)"
   ]
  },
  {
   "cell_type": "code",
   "execution_count": 16,
   "id": "b9beffff",
   "metadata": {
    "execution": {
     "iopub.execute_input": "2024-09-25T12:22:57.601574Z",
     "iopub.status.busy": "2024-09-25T12:22:57.601188Z",
     "iopub.status.idle": "2024-09-25T12:22:57.608082Z",
     "shell.execute_reply": "2024-09-25T12:22:57.607065Z"
    },
    "papermill": {
     "duration": 0.015272,
     "end_time": "2024-09-25T12:22:57.610106",
     "exception": false,
     "start_time": "2024-09-25T12:22:57.594834",
     "status": "completed"
    },
    "tags": []
   },
   "outputs": [],
   "source": [
    "submission.to_csv(\"../competitions_data/submission.csv\", index=False)"
   ]
  },
  {
   "cell_type": "code",
   "execution_count": null,
   "id": "3edf393d",
   "metadata": {
    "papermill": {
     "duration": 0.005091,
     "end_time": "2024-09-25T12:22:57.620747",
     "exception": false,
     "start_time": "2024-09-25T12:22:57.615656",
     "status": "completed"
    },
    "tags": []
   },
   "outputs": [],
   "source": []
  }
 ],
 "metadata": {
  "kaggle": {
   "accelerator": "gpu",
   "dataSources": [
    {
     "databundleVersionId": 9551816,
     "sourceId": 82695,
     "sourceType": "competition"
    },
    {
     "datasetId": 5762657,
     "sourceId": 9475294,
     "sourceType": "datasetVersion"
    },
    {
     "datasetId": 5763518,
     "sourceId": 9476395,
     "sourceType": "datasetVersion"
    },
    {
     "datasetId": 5763576,
     "sourceId": 9476473,
     "sourceType": "datasetVersion"
    },
    {
     "datasetId": 5763582,
     "sourceId": 9476479,
     "sourceType": "datasetVersion"
    },
    {
     "datasetId": 5765153,
     "sourceId": 9478541,
     "sourceType": "datasetVersion"
    }
   ],
   "dockerImageVersionId": 30776,
   "isGpuEnabled": true,
   "isInternetEnabled": false,
   "language": "python",
   "sourceType": "notebook"
  },
  "kernelspec": {
   "display_name": "Python 3 (ipykernel)",
   "language": "python",
   "name": "python3"
  },
  "language_info": {
   "codemirror_mode": {
    "name": "ipython",
    "version": 3
   },
   "file_extension": ".py",
   "mimetype": "text/x-python",
   "name": "python",
   "nbconvert_exporter": "python",
   "pygments_lexer": "ipython3",
   "version": "3.10.16"
  },
  "papermill": {
   "default_parameters": {},
   "duration": 34.713066,
   "end_time": "2024-09-25T12:23:00.125761",
   "environment_variables": {},
   "exception": null,
   "input_path": "__notebook__.ipynb",
   "output_path": "__notebook__.ipynb",
   "parameters": {},
   "start_time": "2024-09-25T12:22:25.412695",
   "version": "2.6.0"
  }
 },
 "nbformat": 4,
 "nbformat_minor": 5
}
